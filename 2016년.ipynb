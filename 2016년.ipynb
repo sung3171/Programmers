{
 "cells": [
  {
   "cell_type": "code",
   "execution_count": null,
   "metadata": {},
   "outputs": [],
   "source": [
    "def solution(a,b):\n",
    "    week=['FRI','SAT','SUN','MON','TUE','WED','THU']\n",
    "    month=[0,31,29,31,30,31,30,31,31,30,31,30,31]\n",
    "    dic_week={}\n",
    "    for i in week:\n",
    "        dic_week[week.index(i)+1]=i\n",
    "    monthsum=sum(month[0:a])\n",
    "    showweek=(monthsum+b)%7\n",
    "    return dic_week[showweek]"
   ]
  }
 ],
 "metadata": {
  "kernelspec": {
   "display_name": "Python 3",
   "language": "python",
   "name": "python3"
  },
  "language_info": {
   "codemirror_mode": {
    "name": "ipython",
    "version": 3
   },
   "file_extension": ".py",
   "mimetype": "text/x-python",
   "name": "python",
   "nbconvert_exporter": "python",
   "pygments_lexer": "ipython3",
   "version": "3.7.6"
  }
 },
 "nbformat": 4,
 "nbformat_minor": 4
}
